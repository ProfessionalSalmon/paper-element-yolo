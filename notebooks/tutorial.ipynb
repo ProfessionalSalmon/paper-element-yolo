{
 "cells": [
  {
   "cell_type": "code",
   "execution_count": 21,
   "id": "d5ba7f3c",
   "metadata": {},
   "outputs": [
    {
     "name": "stdout",
     "output_type": "stream",
     "text": [
      "Ultralytics 8.3.163 🚀 Python-3.12.3 torch-2.7.1+cu126 CPU (13th Gen Intel Core(TM) i7-1360P)\n",
      "Setup complete ✅ (16 CPUs, 7.6 GB RAM, 152.5/1006.9 GB disk)\n"
     ]
    }
   ],
   "source": [
    "import ultralytics\n",
    "ultralytics.checks()"
   ]
  },
  {
   "cell_type": "markdown",
   "id": "4cab3d4c",
   "metadata": {},
   "source": [
    "1. Go to your Roboflow dashboard: https://app.roboflow.com/\n",
    "2. Look at the URL when you're in your project\n",
    "3. The URL format is: https://app.roboflow.com/[WORKSPACE_NAME]/[PROJECT_NAME]/[VERSION]\")"
   ]
  },
  {
   "cell_type": "code",
   "execution_count": 22,
   "id": "fedd1376",
   "metadata": {},
   "outputs": [
    {
     "name": "stdout",
     "output_type": "stream",
     "text": [
      "loading Roboflow workspace...\n",
      "loading Roboflow project...\n",
      "Dataset downloaded to: /home/terra/nopparuj/yolo11-tut/notebooks/TFT-ID-1\n",
      "Dataset YAML file: /home/terra/nopparuj/yolo11-tut/notebooks/TFT-ID-1/data.yaml\n"
     ]
    }
   ],
   "source": [
    "# Download your dataset from Roboflow\n",
    "import roboflow\n",
    "\n",
    "workspace_name = \"tokyo-fjwy4\"  # e.g., \"john-doe\" or \"my-company\"\n",
    "project_name = \"tft-id-cjkvr\"  # Your project name\n",
    "version_number = \"1\"  # Your version number\n",
    "\n",
    "# Get your project and dataset\n",
    "project = rf.workspace(workspace_name).project(project_name)\n",
    "dataset = project.version(version_number).download(\"yolov11\")\n",
    "\n",
    "# The dataset will be downloaded to a folder with metadata\n",
    "print(f\"Dataset downloaded to: {dataset.location}\")\n",
    "print(f\"Dataset YAML file: {dataset.location}/data.yaml\")\n"
   ]
  },
  {
   "cell_type": "code",
   "execution_count": 23,
   "id": "b104f0a6",
   "metadata": {},
   "outputs": [
    {
     "name": "stdout",
     "output_type": "stream",
     "text": [
      "Ultralytics 8.3.163 🚀 Python-3.12.3 torch-2.7.1+cu126 CPU (13th Gen Intel Core(TM) i7-1360P)\n",
      "\u001b[34m\u001b[1mengine/trainer: \u001b[0magnostic_nms=False, amp=True, augment=False, auto_augment=randaugment, batch=16, bgr=0.0, box=7.5, cache=False, cfg=None, classes=None, close_mosaic=10, cls=0.5, conf=None, copy_paste=0.0, copy_paste_mode=flip, cos_lr=False, cutmix=0.0, data=/home/terra/nopparuj/yolo11-tut/notebooks/TFT-ID-1/data.yaml, degrees=0.0, deterministic=True, device=cpu, dfl=1.5, dnn=False, dropout=0.0, dynamic=False, embed=None, epochs=10, erasing=0.4, exist_ok=False, fliplr=0.5, flipud=0.0, format=torchscript, fraction=1.0, freeze=None, half=False, hsv_h=0.015, hsv_s=0.7, hsv_v=0.4, imgsz=640, int8=False, iou=0.7, keras=False, kobj=1.0, line_width=None, lr0=0.01, lrf=0.01, mask_ratio=4, max_det=300, mixup=0.0, mode=train, model=yolo11n.pt, momentum=0.937, mosaic=1.0, multi_scale=False, name=custom_yolo_model3, nbs=64, nms=False, opset=None, optimize=False, optimizer=auto, overlap_mask=True, patience=100, perspective=0.0, plots=True, pose=12.0, pretrained=True, profile=False, project=runs/train, rect=False, resume=False, retina_masks=False, save=True, save_conf=False, save_crop=False, save_dir=runs/train/custom_yolo_model3, save_frames=False, save_json=False, save_period=-1, save_txt=False, scale=0.5, seed=0, shear=0.0, show=False, show_boxes=True, show_conf=True, show_labels=True, simplify=True, single_cls=False, source=None, split=val, stream_buffer=False, task=detect, time=None, tracker=botsort.yaml, translate=0.1, val=True, verbose=True, vid_stride=1, visualize=False, warmup_bias_lr=0.1, warmup_epochs=3.0, warmup_momentum=0.8, weight_decay=0.0005, workers=8, workspace=None\n",
      "Overriding model.yaml nc=80 with nc=3\n",
      "\n",
      "                   from  n    params  module                                       arguments                     \n",
      "  0                  -1  1       464  ultralytics.nn.modules.conv.Conv             [3, 16, 3, 2]                 \n",
      "  1                  -1  1      4672  ultralytics.nn.modules.conv.Conv             [16, 32, 3, 2]                \n",
      "  2                  -1  1      6640  ultralytics.nn.modules.block.C3k2            [32, 64, 1, False, 0.25]      \n",
      "  3                  -1  1     36992  ultralytics.nn.modules.conv.Conv             [64, 64, 3, 2]                \n",
      "  4                  -1  1     26080  ultralytics.nn.modules.block.C3k2            [64, 128, 1, False, 0.25]     \n",
      "  5                  -1  1    147712  ultralytics.nn.modules.conv.Conv             [128, 128, 3, 2]              \n",
      "  6                  -1  1     87040  ultralytics.nn.modules.block.C3k2            [128, 128, 1, True]           \n",
      "  7                  -1  1    295424  ultralytics.nn.modules.conv.Conv             [128, 256, 3, 2]              \n",
      "  8                  -1  1    346112  ultralytics.nn.modules.block.C3k2            [256, 256, 1, True]           \n",
      "  9                  -1  1    164608  ultralytics.nn.modules.block.SPPF            [256, 256, 5]                 \n",
      " 10                  -1  1    249728  ultralytics.nn.modules.block.C2PSA           [256, 256, 1]                 \n",
      " 11                  -1  1         0  torch.nn.modules.upsampling.Upsample         [None, 2, 'nearest']          \n",
      " 12             [-1, 6]  1         0  ultralytics.nn.modules.conv.Concat           [1]                           \n",
      " 13                  -1  1    111296  ultralytics.nn.modules.block.C3k2            [384, 128, 1, False]          \n",
      " 14                  -1  1         0  torch.nn.modules.upsampling.Upsample         [None, 2, 'nearest']          \n",
      " 15             [-1, 4]  1         0  ultralytics.nn.modules.conv.Concat           [1]                           \n",
      " 16                  -1  1     32096  ultralytics.nn.modules.block.C3k2            [256, 64, 1, False]           \n",
      " 17                  -1  1     36992  ultralytics.nn.modules.conv.Conv             [64, 64, 3, 2]                \n",
      " 18            [-1, 13]  1         0  ultralytics.nn.modules.conv.Concat           [1]                           \n",
      " 19                  -1  1     86720  ultralytics.nn.modules.block.C3k2            [192, 128, 1, False]          \n",
      " 20                  -1  1    147712  ultralytics.nn.modules.conv.Conv             [128, 128, 3, 2]              \n",
      " 21            [-1, 10]  1         0  ultralytics.nn.modules.conv.Concat           [1]                           \n",
      " 22                  -1  1    378880  ultralytics.nn.modules.block.C3k2            [384, 256, 1, True]           \n",
      " 23        [16, 19, 22]  1    431257  ultralytics.nn.modules.head.Detect           [3, [64, 128, 256]]           \n",
      "YOLO11n summary: 181 layers, 2,590,425 parameters, 2,590,409 gradients, 6.4 GFLOPs\n",
      "\n",
      "Transferred 448/499 items from pretrained weights\n",
      "Freezing layer 'model.23.dfl.conv.weight'\n",
      "\u001b[34m\u001b[1mtrain: \u001b[0mFast image access ✅ (ping: 0.0±0.0 ms, read: 378.8±194.8 MB/s, size: 379.5 KB)\n"
     ]
    },
    {
     "name": "stderr",
     "output_type": "stream",
     "text": [
      "\u001b[34m\u001b[1mtrain: \u001b[0mScanning /home/terra/nopparuj/yolo11-tut/notebooks/TFT-ID-1/train/labels.cache... 35 images, 0 backgrounds, 0 corrupt: 100%|██████████| 35/35 [00:00<?, ?it/s]"
     ]
    },
    {
     "name": "stdout",
     "output_type": "stream",
     "text": [
      "\u001b[34m\u001b[1mval: \u001b[0mFast image access ✅ (ping: 0.0±0.0 ms, read: 1146.8±405.6 MB/s, size: 353.6 KB)\n"
     ]
    },
    {
     "name": "stderr",
     "output_type": "stream",
     "text": [
      "\n",
      "'pin_memory' argument is set as true but no accelerator is found, then device pinned memory won't be used.\n",
      "\u001b[34m\u001b[1mval: \u001b[0mScanning /home/terra/nopparuj/yolo11-tut/notebooks/TFT-ID-1/valid/labels.cache... 10 images, 0 backgrounds, 0 corrupt: 100%|██████████| 10/10 [00:00<?, ?it/s]"
     ]
    },
    {
     "name": "stdout",
     "output_type": "stream",
     "text": [
      "Plotting labels to runs/train/custom_yolo_model3/labels.jpg... \n"
     ]
    },
    {
     "name": "stderr",
     "output_type": "stream",
     "text": [
      "\n",
      "'pin_memory' argument is set as true but no accelerator is found, then device pinned memory won't be used.\n"
     ]
    },
    {
     "name": "stdout",
     "output_type": "stream",
     "text": [
      "\u001b[34m\u001b[1moptimizer:\u001b[0m 'optimizer=auto' found, ignoring 'lr0=0.01' and 'momentum=0.937' and determining best 'optimizer', 'lr0' and 'momentum' automatically... \n",
      "\u001b[34m\u001b[1moptimizer:\u001b[0m AdamW(lr=0.001429, momentum=0.9) with parameter groups 81 weight(decay=0.0), 88 weight(decay=0.0005), 87 bias(decay=0.0)\n",
      "Image sizes 640 train, 640 val\n",
      "Using 0 dataloader workers\n",
      "Logging results to \u001b[1mruns/train/custom_yolo_model3\u001b[0m\n",
      "Starting training for 10 epochs...\n",
      "Closing dataloader mosaic\n",
      "\n",
      "      Epoch    GPU_mem   box_loss   cls_loss   dfl_loss  Instances       Size\n"
     ]
    },
    {
     "name": "stderr",
     "output_type": "stream",
     "text": [
      "'pin_memory' argument is set as true but no accelerator is found, then device pinned memory won't be used.\n",
      "       1/10         0G      1.574      3.221      1.574         20        640: 100%|██████████| 3/3 [00:21<00:00,  7.17s/it]\n",
      "                 Class     Images  Instances      Box(P          R      mAP50  mAP50-95): 100%|██████████| 1/1 [00:03<00:00,  3.92s/it]"
     ]
    },
    {
     "name": "stdout",
     "output_type": "stream",
     "text": [
      "                   all         10         63    0.00952      0.512     0.0249     0.0101\n"
     ]
    },
    {
     "name": "stderr",
     "output_type": "stream",
     "text": [
      "\n"
     ]
    },
    {
     "name": "stdout",
     "output_type": "stream",
     "text": [
      "\n",
      "      Epoch    GPU_mem   box_loss   cls_loss   dfl_loss  Instances       Size\n"
     ]
    },
    {
     "name": "stderr",
     "output_type": "stream",
     "text": [
      "       2/10         0G      1.311      3.198      1.421         21        640: 100%|██████████| 3/3 [00:16<00:00,  5.57s/it]\n",
      "                 Class     Images  Instances      Box(P          R      mAP50  mAP50-95): 100%|██████████| 1/1 [00:01<00:00,  1.78s/it]"
     ]
    },
    {
     "name": "stdout",
     "output_type": "stream",
     "text": [
      "                   all         10         63     0.0141      0.751      0.118     0.0517\n"
     ]
    },
    {
     "name": "stderr",
     "output_type": "stream",
     "text": [
      "\n"
     ]
    },
    {
     "name": "stdout",
     "output_type": "stream",
     "text": [
      "\n",
      "      Epoch    GPU_mem   box_loss   cls_loss   dfl_loss  Instances       Size\n"
     ]
    },
    {
     "name": "stderr",
     "output_type": "stream",
     "text": [
      "       3/10         0G      1.141      3.145      1.268         12        640: 100%|██████████| 3/3 [00:18<00:00,  6.12s/it]\n",
      "                 Class     Images  Instances      Box(P          R      mAP50  mAP50-95): 100%|██████████| 1/1 [00:01<00:00,  1.62s/it]"
     ]
    },
    {
     "name": "stdout",
     "output_type": "stream",
     "text": [
      "                   all         10         63     0.0177      0.829      0.185      0.105\n"
     ]
    },
    {
     "name": "stderr",
     "output_type": "stream",
     "text": [
      "\n"
     ]
    },
    {
     "name": "stdout",
     "output_type": "stream",
     "text": [
      "\n",
      "      Epoch    GPU_mem   box_loss   cls_loss   dfl_loss  Instances       Size\n"
     ]
    },
    {
     "name": "stderr",
     "output_type": "stream",
     "text": [
      "       4/10         0G     0.8365      2.874      1.262         13        640: 100%|██████████| 3/3 [00:17<00:00,  5.73s/it]\n",
      "                 Class     Images  Instances      Box(P          R      mAP50  mAP50-95): 100%|██████████| 1/1 [00:01<00:00,  1.39s/it]"
     ]
    },
    {
     "name": "stdout",
     "output_type": "stream",
     "text": [
      "                   all         10         63     0.0186      0.891       0.31      0.184\n"
     ]
    },
    {
     "name": "stderr",
     "output_type": "stream",
     "text": [
      "\n"
     ]
    },
    {
     "name": "stdout",
     "output_type": "stream",
     "text": [
      "\n",
      "      Epoch    GPU_mem   box_loss   cls_loss   dfl_loss  Instances       Size\n"
     ]
    },
    {
     "name": "stderr",
     "output_type": "stream",
     "text": [
      "       5/10         0G     0.8638      2.947      1.114         15        640: 100%|██████████| 3/3 [00:23<00:00,  7.69s/it]\n",
      "                 Class     Images  Instances      Box(P          R      mAP50  mAP50-95): 100%|██████████| 1/1 [00:01<00:00,  1.57s/it]"
     ]
    },
    {
     "name": "stdout",
     "output_type": "stream",
     "text": [
      "                   all         10         63     0.0191      0.897        0.4      0.267\n"
     ]
    },
    {
     "name": "stderr",
     "output_type": "stream",
     "text": [
      "\n"
     ]
    },
    {
     "name": "stdout",
     "output_type": "stream",
     "text": [
      "\n",
      "      Epoch    GPU_mem   box_loss   cls_loss   dfl_loss  Instances       Size\n"
     ]
    },
    {
     "name": "stderr",
     "output_type": "stream",
     "text": [
      "       6/10         0G     0.6518        2.7      1.068         17        640: 100%|██████████| 3/3 [00:16<00:00,  5.48s/it]\n",
      "                 Class     Images  Instances      Box(P          R      mAP50  mAP50-95): 100%|██████████| 1/1 [00:03<00:00,  3.93s/it]"
     ]
    },
    {
     "name": "stdout",
     "output_type": "stream",
     "text": [
      "                   all         10         63     0.0193      0.904      0.438      0.311\n"
     ]
    },
    {
     "name": "stderr",
     "output_type": "stream",
     "text": [
      "\n"
     ]
    },
    {
     "name": "stdout",
     "output_type": "stream",
     "text": [
      "\n",
      "      Epoch    GPU_mem   box_loss   cls_loss   dfl_loss  Instances       Size\n"
     ]
    },
    {
     "name": "stderr",
     "output_type": "stream",
     "text": [
      "       7/10         0G     0.7739      2.719      1.081         19        640: 100%|██████████| 3/3 [00:14<00:00,  4.68s/it]\n",
      "                 Class     Images  Instances      Box(P          R      mAP50  mAP50-95): 100%|██████████| 1/1 [00:01<00:00,  1.29s/it]"
     ]
    },
    {
     "name": "stdout",
     "output_type": "stream",
     "text": [
      "                   all         10         63     0.0191      0.904      0.442      0.331\n"
     ]
    },
    {
     "name": "stderr",
     "output_type": "stream",
     "text": [
      "\n"
     ]
    },
    {
     "name": "stdout",
     "output_type": "stream",
     "text": [
      "\n",
      "      Epoch    GPU_mem   box_loss   cls_loss   dfl_loss  Instances       Size\n"
     ]
    },
    {
     "name": "stderr",
     "output_type": "stream",
     "text": [
      "       8/10         0G     0.7347      2.682      1.067         23        640: 100%|██████████| 3/3 [00:14<00:00,  4.81s/it]\n",
      "                 Class     Images  Instances      Box(P          R      mAP50  mAP50-95): 100%|██████████| 1/1 [00:01<00:00,  1.70s/it]"
     ]
    },
    {
     "name": "stdout",
     "output_type": "stream",
     "text": [
      "                   all         10         63     0.0192      0.904      0.411        0.3\n"
     ]
    },
    {
     "name": "stderr",
     "output_type": "stream",
     "text": [
      "\n"
     ]
    },
    {
     "name": "stdout",
     "output_type": "stream",
     "text": [
      "\n",
      "      Epoch    GPU_mem   box_loss   cls_loss   dfl_loss  Instances       Size\n"
     ]
    },
    {
     "name": "stderr",
     "output_type": "stream",
     "text": [
      "       9/10         0G     0.7263      2.592      1.063         15        640: 100%|██████████| 3/3 [00:17<00:00,  5.70s/it]\n",
      "                 Class     Images  Instances      Box(P          R      mAP50  mAP50-95): 100%|██████████| 1/1 [00:01<00:00,  1.44s/it]"
     ]
    },
    {
     "name": "stdout",
     "output_type": "stream",
     "text": [
      "                   all         10         63     0.0188      0.897      0.369      0.255\n"
     ]
    },
    {
     "name": "stderr",
     "output_type": "stream",
     "text": [
      "\n"
     ]
    },
    {
     "name": "stdout",
     "output_type": "stream",
     "text": [
      "\n",
      "      Epoch    GPU_mem   box_loss   cls_loss   dfl_loss  Instances       Size\n"
     ]
    },
    {
     "name": "stderr",
     "output_type": "stream",
     "text": [
      "      10/10         0G     0.6435      2.553      1.027         20        640: 100%|██████████| 3/3 [00:18<00:00,  6.07s/it]\n",
      "                 Class     Images  Instances      Box(P          R      mAP50  mAP50-95): 100%|██████████| 1/1 [00:03<00:00,  3.59s/it]"
     ]
    },
    {
     "name": "stdout",
     "output_type": "stream",
     "text": [
      "                   all         10         63     0.0193      0.904      0.382      0.259\n"
     ]
    },
    {
     "name": "stderr",
     "output_type": "stream",
     "text": [
      "\n"
     ]
    },
    {
     "name": "stdout",
     "output_type": "stream",
     "text": [
      "\n",
      "10 epochs completed in 0.057 hours.\n",
      "Optimizer stripped from runs/train/custom_yolo_model3/weights/last.pt, 5.5MB\n",
      "Optimizer stripped from runs/train/custom_yolo_model3/weights/best.pt, 5.5MB\n",
      "\n",
      "Validating runs/train/custom_yolo_model3/weights/best.pt...\n",
      "Ultralytics 8.3.163 🚀 Python-3.12.3 torch-2.7.1+cu126 CPU (13th Gen Intel Core(TM) i7-1360P)\n",
      "YOLO11n summary (fused): 100 layers, 2,582,737 parameters, 0 gradients, 6.3 GFLOPs\n"
     ]
    },
    {
     "name": "stderr",
     "output_type": "stream",
     "text": [
      "                 Class     Images  Instances      Box(P          R      mAP50  mAP50-95): 100%|██████████| 1/1 [00:04<00:00,  4.15s/it]\n"
     ]
    },
    {
     "name": "stdout",
     "output_type": "stream",
     "text": [
      "                   all         10         63     0.0192      0.904      0.441       0.33\n",
      "                figure          6          8    0.00884          1      0.415      0.305\n",
      "                 table          4          4    0.00292       0.75      0.252       0.25\n",
      "                  text         10         51     0.0458      0.961      0.655      0.435\n",
      "Speed: 2.5ms preprocess, 365.1ms inference, 0.0ms loss, 23.3ms postprocess per image\n",
      "Results saved to \u001b[1mruns/train/custom_yolo_model3\u001b[0m\n",
      "🧙Training completed!\n"
     ]
    }
   ],
   "source": [
    "# Train YOLO with your custom dataset\n",
    "from ultralytics import YOLO\n",
    "\n",
    "# Load a pre-trained YOLO model\n",
    "model = YOLO(\"yolo11n.pt\")  # nano (fastest)\n",
    "\n",
    "# Train the model on your custom dataset\n",
    "results = model.train(\n",
    "    data=f\"{dataset.location}/data.yaml\",  # Use the downloaded dataset path\n",
    "    epochs=10,                             # Number of training epochs\n",
    "    imgsz=640,                             # Image size\n",
    "    batch=16,                              # Batch size (adjust based on your GPU memory)\n",
    "    device='cpu',                          # GPU device (use 'cpu' if no GPU)\n",
    "    project=\"runs/train\",                  # Where to save training results\n",
    "    name=\"custom_yolo_model\"               # Name for this training run\n",
    ")\n",
    "\n",
    "print(\"🧙Training completed!\")"
   ]
  },
  {
   "cell_type": "code",
   "execution_count": 24,
   "id": "af1ddb73",
   "metadata": {},
   "outputs": [
    {
     "name": "stdout",
     "output_type": "stream",
     "text": [
      "Ultralytics 8.3.163 🚀 Python-3.12.3 torch-2.7.1+cu126 CPU (13th Gen Intel Core(TM) i7-1360P)\n",
      "YOLO11n summary (fused): 100 layers, 2,582,737 parameters, 0 gradients, 6.3 GFLOPs\n",
      "\u001b[34m\u001b[1mval: \u001b[0mFast image access ✅ (ping: 0.0±0.0 ms, read: 975.7±956.9 MB/s, size: 434.7 KB)\n"
     ]
    },
    {
     "name": "stderr",
     "output_type": "stream",
     "text": [
      "\u001b[34m\u001b[1mval: \u001b[0mScanning /home/terra/nopparuj/yolo11-tut/notebooks/TFT-ID-1/valid/labels.cache... 10 images, 0 backgrounds, 0 corrupt: 100%|██████████| 10/10 [00:00<?, ?it/s]\n",
      "'pin_memory' argument is set as true but no accelerator is found, then device pinned memory won't be used.\n",
      "                 Class     Images  Instances      Box(P          R      mAP50  mAP50-95): 100%|██████████| 1/1 [00:02<00:00,  2.75s/it]\n"
     ]
    },
    {
     "name": "stdout",
     "output_type": "stream",
     "text": [
      "                   all         10         63     0.0192      0.904      0.441       0.33\n",
      "                figure          6          8    0.00884          1      0.415      0.305\n",
      "                 table          4          4    0.00292       0.75      0.252       0.25\n",
      "                  text         10         51     0.0458      0.961      0.655      0.435\n",
      "Speed: 1.6ms preprocess, 145.5ms inference, 0.0ms loss, 94.2ms postprocess per image\n",
      "Results saved to \u001b[1mruns/train/custom_yolo_model32\u001b[0m\n",
      "mAP@0.5: 0.44071092122910266\n",
      "mAP@0.5:0.95: 0.32995550277538027\n",
      "Precision: 0.019200328890258224\n",
      "Recall: 0.9035947712418301\n"
     ]
    }
   ],
   "source": [
    "# Validate the trained model\n",
    "results = model.val(data=f\"{dataset.location}/data.yaml\")\n",
    "\n",
    "# Print validation metrics\n",
    "print(f\"mAP@0.5: {results.box.map50}\")\n",
    "print(f\"mAP@0.5:0.95: {results.box.map}\")\n",
    "print(f\"Precision: {results.box.mp}\")\n",
    "print(f\"Recall: {results.box.mr}\")\n"
   ]
  },
  {
   "cell_type": "code",
   "execution_count": 28,
   "id": "60dd4eed",
   "metadata": {},
   "outputs": [
    {
     "name": "stdout",
     "output_type": "stream",
     "text": [
      "✅ Found test images in: /home/terra/nopparuj/yolo11-tut/notebooks/TFT-ID-1/test/images\n",
      "\n",
      "image 1/5 /home/terra/nopparuj/yolo11-tut/notebooks/TFT-ID-1/test/images/arxiv_2305_02549_6_png.rf.c076d77f1864eed72b81f14c6ffae5a5.jpg: 640x480 (no detections), 59.4ms\n",
      "image 2/5 /home/terra/nopparuj/yolo11-tut/notebooks/TFT-ID-1/test/images/arxiv_2305_02665_4_png.rf.c88c1cf5abd35af11b2a08fc179b650c.jpg: 640x480 (no detections), 67.0ms\n",
      "image 3/5 /home/terra/nopparuj/yolo11-tut/notebooks/TFT-ID-1/test/images/arxiv_2305_03027_page_9_png.rf.3879f87b64c4184168d4a4d3fdfcd201.jpg: 640x512 (no detections), 68.9ms\n",
      "image 4/5 /home/terra/nopparuj/yolo11-tut/notebooks/TFT-ID-1/test/images/arxiv_2305_03937_page_7_png.rf.4caf6ab033b4c0c82d05fca0a5308457.jpg: 640x480 (no detections), 55.0ms\n",
      "image 5/5 /home/terra/nopparuj/yolo11-tut/notebooks/TFT-ID-1/test/images/arxiv_2305_03981_7_png.rf.e8d001cbe005bfd0b7aacadbeefe47a5.jpg: 640x480 (no detections), 60.5ms\n",
      "Speed: 2.0ms preprocess, 62.2ms inference, 0.5ms postprocess per image at shape (1, 3, 640, 480)\n",
      "Results saved to \u001b[1mruns/predict/test_results3\u001b[0m\n",
      "✅ Prediction completed! Check runs/predict/test_results for results.\n"
     ]
    }
   ],
   "source": [
    "# Test the trained model on your dataset's test images\n",
    "import os\n",
    "\n",
    "# Load your trained model\n",
    "model = YOLO(\"runs/train/custom_yolo_model/weights/best.pt\")\n",
    "\n",
    "# Check if test images exist in your dataset\n",
    "test_images_path = f\"{dataset.location}/test/images\"\n",
    "if os.path.exists(test_images_path):\n",
    "    print(f\"✅ Found test images in: {test_images_path}\")\n",
    "    \n",
    "    # Run predictions on all test images\n",
    "    results = model.predict(\n",
    "        source=test_images_path,          # Path to your test images folder\n",
    "        save=True,                        # Save results\n",
    "        show=False,                       # Don't display (set to True if you want to see)\n",
    "        conf=0.5,                         # Confidence threshold\n",
    "        project=\"runs/predict\",           # Where to save predictions\n",
    "        name=\"test_results\"               # Name for this prediction run\n",
    "    )\n",
    "    \n",
    "    print(\"✅ Prediction completed! Check runs/predict/test_results for results.\")"
   ]
  },
  {
   "cell_type": "code",
   "execution_count": 29,
   "id": "7a486f69",
   "metadata": {},
   "outputs": [
    {
     "name": "stdout",
     "output_type": "stream",
     "text": [
      "Found 5 test images\n"
     ]
    },
    {
     "data": {
      "text/plain": [
       "<Figure size 1500x1600 with 12 Axes>"
      ]
     },
     "metadata": {},
     "output_type": "display_data"
    }
   ],
   "source": [
    "# Plot all test images with predictions\n",
    "import os\n",
    "import glob\n",
    "import matplotlib.pyplot as plt\n",
    "from PIL import Image\n",
    "import math\n",
    "\n",
    "# Get all test image files\n",
    "test_image_files = glob.glob(f\"{test_images_path}/*.jpg\") + glob.glob(f\"{test_images_path}/*.png\")\n",
    "prediction_results_path = \"runs/predict/test_results\"  # Use path from previous prediction\n",
    "\n",
    "print(f\"Found {len(test_image_files)} test images\")\n",
    "\n",
    "# Calculate grid dimensions for all images\n",
    "num_images = len(test_image_files)\n",
    "cols = min(3, num_images)  # Max 3 columns\n",
    "rows = math.ceil(num_images / cols) * 2  # 2 rows per image (original + prediction)\n",
    "\n",
    "# Create a figure to display all images\n",
    "fig, axes = plt.subplots(rows, cols, figsize=(5*cols, 4*rows))\n",
    "\n",
    "# Handle case when we have only one image\n",
    "if num_images == 1:\n",
    "    axes = axes.reshape(-1, 1)\n",
    "elif cols == 1:\n",
    "    axes = axes.reshape(-1, 1)\n",
    "\n",
    "for i, img_path in enumerate(test_image_files):\n",
    "    # Calculate position in grid\n",
    "    col = i % cols\n",
    "    row_pair = (i // cols) * 2  # Each image takes 2 rows\n",
    "    \n",
    "    # Load original image\n",
    "    orig_img = Image.open(img_path)\n",
    "    \n",
    "    # Load prediction image\n",
    "    img_name = os.path.basename(img_path)\n",
    "    pred_img_path = f\"{prediction_results_path}/{img_name}\"\n",
    "    \n",
    "    if os.path.exists(pred_img_path):\n",
    "        pred_img = Image.open(pred_img_path)\n",
    "    else:\n",
    "        pred_img = orig_img  # Fallback if prediction image not found\n",
    "    \n",
    "    # Plot original image\n",
    "    if cols == 1:\n",
    "        axes[row_pair].imshow(orig_img)\n",
    "        axes[row_pair].set_title(f\"Original: {img_name[:30]}...\")\n",
    "        axes[row_pair].axis('off')\n",
    "        \n",
    "        # Plot prediction image\n",
    "        axes[row_pair + 1].imshow(pred_img)\n",
    "        axes[row_pair + 1].set_title(f\"Predictions: {img_name[:30]}...\")\n",
    "        axes[row_pair + 1].axis('off')\n",
    "    else:\n",
    "        axes[row_pair, col].imshow(orig_img)\n",
    "        axes[row_pair, col].set_title(f\"Original: {img_name[:30]}...\")\n",
    "        axes[row_pair, col].axis('off')\n",
    "        \n",
    "        # Plot prediction image\n",
    "        axes[row_pair + 1, col].imshow(pred_img)\n",
    "        axes[row_pair + 1, col].set_title(f\"Predictions: {img_name[:30]}...\")\n",
    "        axes[row_pair + 1, col].axis('off')\n",
    "\n",
    "# Hide any unused subplots\n",
    "for i in range(num_images, rows * cols // 2):\n",
    "    col = i % cols\n",
    "    row_pair = (i // cols) * 2\n",
    "    if cols == 1:\n",
    "        if row_pair < rows:\n",
    "            axes[row_pair].axis('off')\n",
    "        if row_pair + 1 < rows:\n",
    "            axes[row_pair + 1].axis('off')\n",
    "    else:\n",
    "        if row_pair < rows:\n",
    "            axes[row_pair, col].axis('off')\n",
    "        if row_pair + 1 < rows:\n",
    "            axes[row_pair + 1, col].axis('off')\n",
    "\n",
    "plt.tight_layout()\n",
    "plt.show()"
   ]
  },
  {
   "cell_type": "code",
   "execution_count": 31,
   "id": "1fa04120",
   "metadata": {},
   "outputs": [
    {
     "name": "stdout",
     "output_type": "stream",
     "text": [
      "\n",
      "📊 Detection Summary:\n",
      "  arxiv_2305_03937_page_7_png.rf.4caf6ab033b4c0c82d05fca0a5308457.jpg: 0 detections\n",
      "  arxiv_2305_02665_4_png.rf.c88c1cf5abd35af11b2a08fc179b650c.jpg: 0 detections\n",
      "  arxiv_2305_03981_7_png.rf.e8d001cbe005bfd0b7aacadbeefe47a5.jpg: 0 detections\n",
      "  arxiv_2305_02549_6_png.rf.c076d77f1864eed72b81f14c6ffae5a5.jpg: 0 detections\n",
      "  arxiv_2305_03027_page_9_png.rf.3879f87b64c4184168d4a4d3fdfcd201.jpg: 0 detections\n"
     ]
    }
   ],
   "source": [
    "# Print detection summary\n",
    "print(f\"\\n📊 Detection Summary:\")\n",
    "for i, result in enumerate(results):  # Show first 3 results\n",
    "    img_name = os.path.basename(test_image_files[i])\n",
    "    num_detections = len(result.boxes) if result.boxes is not None else 0\n",
    "    print(f\"  {img_name}: {num_detections} detections\")\n",
    "    \n",
    "    if num_detections > 0:\n",
    "        # Show detection details\n",
    "        for j, box in enumerate(result.boxes):\n",
    "            confidence = box.conf.item()\n",
    "            class_id = int(box.cls.item())\n",
    "            class_name = model.names[class_id]\n",
    "            print(f\"    - {class_name}: {confidence:.2f}\")"
   ]
  }
 ],
 "metadata": {
  "kernelspec": {
   "display_name": ".venv",
   "language": "python",
   "name": "python3"
  },
  "language_info": {
   "codemirror_mode": {
    "name": "ipython",
    "version": 3
   },
   "file_extension": ".py",
   "mimetype": "text/x-python",
   "name": "python",
   "nbconvert_exporter": "python",
   "pygments_lexer": "ipython3",
   "version": "3.12.3"
  }
 },
 "nbformat": 4,
 "nbformat_minor": 5
}
